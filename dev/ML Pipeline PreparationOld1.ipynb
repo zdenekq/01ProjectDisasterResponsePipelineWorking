{
 "cells": [
  {
   "cell_type": "markdown",
   "metadata": {},
   "source": [
    "# ML Pipeline Preparation\n",
    "Follow the instructions below to help you create your ML pipeline.\n",
    "### 1. Import libraries and load data from database.\n",
    "- Import Python libraries\n",
    "- Load dataset from database with [`read_sql_table`](https://pandas.pydata.org/pandas-docs/stable/generated/pandas.read_sql_table.html)\n",
    "- Define feature and target variables X and Y\n",
    "\n",
    "https://towardsdatascience.com/building-a-disaster-response-web-application-4066e6f90072"
   ]
  },
  {
   "cell_type": "code",
   "execution_count": null,
   "metadata": {},
   "outputs": [],
   "source": [
    "# import libraries pak smaze\n",
    "import pandas as pd\n",
    "import numpy as np\n",
    "import sys # is not necessary\n",
    "\n",
    "from sqlalchemy import create_engine\n",
    "\n",
    "import pickle\n",
    "\n",
    "from sklearn.datasets import make_multilabel_classification\n",
    "from sklearn.multioutput import MultiOutputClassifier\n",
    "from sklearn.linear_model import LogisticRegression\n",
    "\n",
    "\n",
    "\n",
    "# from flask_sqlalchemy import SQLAlchemy https://pythonbasics.org/flask-sqlalchemy/#Flask-SQLAlchemy"
   ]
  },
  {
   "cell_type": "code",
   "execution_count": null,
   "metadata": {},
   "outputs": [
    {
     "name": "stdout",
     "output_type": "stream",
     "text": [
      "[nltk_data] Downloading package punkt to /root/nltk_data...\n",
      "[nltk_data]   Package punkt is already up-to-date!\n",
      "[nltk_data] Downloading package wordnet to /root/nltk_data...\n",
      "[nltk_data]   Package wordnet is already up-to-date!\n",
      "[nltk_data] Downloading package stopwords to /root/nltk_data...\n",
      "[nltk_data]   Package stopwords is already up-to-date!\n"
     ]
    }
   ],
   "source": [
    "# import nltk and sklearn libraries\n",
    "import re\n",
    "import nltk\n",
    "from nltk.corpus import stopwords\n",
    "from nltk.tokenize import word_tokenize\n",
    "from nltk.stem import WordNetLemmatizer, PorterStemmer\n",
    "nltk.download(['punkt', 'wordnet','stopwords'])\n",
    "import sys # asi není potřeba\n",
    "\n",
    "\n",
    "from sklearn.datasets import make_multilabel_classification\n",
    "\n",
    "from sklearn.multioutput import MultiOutputClassifier\n",
    "from sklearn.linear_model import LogisticRegression\n",
    "##########################################################################\n",
    "from sklearn.pipeline import Pipeline\n",
    "from sklearn.metrics import confusion_matrix\n",
    "from sklearn.model_selection import train_test_split\n",
    "from sklearn.feature_extraction.text import TfidfVectorizer, HashingVectorizer\n",
    "from sklearn.ensemble import RandomForestClassifier\n",
    "from sklearn.feature_extraction.text import CountVectorizer, TfidfTransformer\n",
    "\n"
   ]
  },
  {
   "cell_type": "code",
   "execution_count": null,
   "metadata": {},
   "outputs": [
    {
     "data": {
      "text/plain": [
       "Index(['id', 'message', 'original', 'genre', 'related', 'request', 'offer',\n",
       "       'aid_related', 'medical_help', 'medical_products', 'search_and_rescue',\n",
       "       'security', 'military', 'child_alone', 'water', 'food', 'shelter',\n",
       "       'clothing', 'money', 'missing_people', 'refugees', 'death', 'other_aid',\n",
       "       'infrastructure_related', 'transport', 'buildings', 'electricity',\n",
       "       'tools', 'hospitals', 'shops', 'aid_centers', 'other_infrastructure',\n",
       "       'weather_related', 'floods', 'storm', 'fire', 'earthquake', 'cold',\n",
       "       'other_weather', 'direct_report'],\n",
       "      dtype='object')"
      ]
     },
     "execution_count": 3,
     "metadata": {},
     "output_type": "execute_result"
    }
   ],
   "source": [
    "# load data from database\n",
    "engine = create_engine('sqlite:///InsertDatabaseName.db').connect()  \n",
    "df = pd.read_sql_table('InsertTableName', engine)\n",
    "df.columns"
   ]
  },
  {
   "cell_type": "code",
   "execution_count": null,
   "metadata": {},
   "outputs": [],
   "source": [
    "# removes rows which are null in message column\n",
    "df.dropna(subset=['message'],axis=0,inplace=True)\n",
    "\n",
    "# This machine pipeline should take in the message column as input \n",
    "X_pandas = df.message\n",
    "# creates numpy\n",
    "X = X_pandas.values\n",
    "\n",
    "Y_pandas= df.drop(columns = ['id','message','original','genre'], axis = 1)\n",
    "Y = Y_pandas.values\n",
    "\n",
    "categories_columns = Y_pandas.columns"
   ]
  },
  {
   "cell_type": "code",
   "execution_count": null,
   "metadata": {},
   "outputs": [
    {
     "data": {
      "text/plain": [
       "((25993,), (25993, 36))"
      ]
     },
     "execution_count": 5,
     "metadata": {},
     "output_type": "execute_result"
    }
   ],
   "source": [
    "X.shape,Y.shape"
   ]
  },
  {
   "cell_type": "code",
   "execution_count": null,
   "metadata": {},
   "outputs": [
    {
     "data": {
      "text/plain": [
       "(numpy.ndarray, numpy.ndarray)"
      ]
     },
     "execution_count": 6,
     "metadata": {},
     "output_type": "execute_result"
    }
   ],
   "source": [
    "(type(X),type(Y))\n",
    "# df.info()"
   ]
  },
  {
   "cell_type": "code",
   "execution_count": null,
   "metadata": {},
   "outputs": [
    {
     "name": "stdout",
     "output_type": "stream",
     "text": [
      "<class 'pandas.core.frame.DataFrame'>\n",
      "Int64Index: 25993 entries, 0 to 25992\n",
      "Data columns (total 36 columns):\n",
      "related                   25993 non-null int64\n",
      "request                   25993 non-null int64\n",
      "offer                     25993 non-null int64\n",
      "aid_related               25993 non-null int64\n",
      "medical_help              25993 non-null int64\n",
      "medical_products          25993 non-null int64\n",
      "search_and_rescue         25993 non-null int64\n",
      "security                  25993 non-null int64\n",
      "military                  25993 non-null int64\n",
      "child_alone               25993 non-null int64\n",
      "water                     25993 non-null int64\n",
      "food                      25993 non-null int64\n",
      "shelter                   25993 non-null int64\n",
      "clothing                  25993 non-null int64\n",
      "money                     25993 non-null int64\n",
      "missing_people            25993 non-null int64\n",
      "refugees                  25993 non-null int64\n",
      "death                     25993 non-null int64\n",
      "other_aid                 25993 non-null int64\n",
      "infrastructure_related    25993 non-null int64\n",
      "transport                 25993 non-null int64\n",
      "buildings                 25993 non-null int64\n",
      "electricity               25993 non-null int64\n",
      "tools                     25993 non-null int64\n",
      "hospitals                 25993 non-null int64\n",
      "shops                     25993 non-null int64\n",
      "aid_centers               25993 non-null int64\n",
      "other_infrastructure      25993 non-null int64\n",
      "weather_related           25993 non-null int64\n",
      "floods                    25993 non-null int64\n",
      "storm                     25993 non-null int64\n",
      "fire                      25993 non-null int64\n",
      "earthquake                25993 non-null int64\n",
      "cold                      25993 non-null int64\n",
      "other_weather             25993 non-null int64\n",
      "direct_report             25993 non-null int64\n",
      "dtypes: int64(36)\n",
      "memory usage: 7.3 MB\n"
     ]
    }
   ],
   "source": [
    "Y_pandas.info()"
   ]
  },
  {
   "cell_type": "code",
   "execution_count": null,
   "metadata": {},
   "outputs": [
    {
     "data": {
      "text/plain": [
       "'Weather update - a cold front from Cuba that could pass over Haiti'"
      ]
     },
     "execution_count": 8,
     "metadata": {},
     "output_type": "execute_result"
    }
   ],
   "source": [
    "X[0]"
   ]
  },
  {
   "cell_type": "code",
   "execution_count": null,
   "metadata": {},
   "outputs": [],
   "source": []
  },
  {
   "cell_type": "code",
   "execution_count": null,
   "metadata": {},
   "outputs": [],
   "source": []
  },
  {
   "cell_type": "markdown",
   "metadata": {},
   "source": [
    "### 2. Write a tokenization function to process your text data"
   ]
  },
  {
   "cell_type": "code",
   "execution_count": 1,
   "metadata": {},
   "outputs": [],
   "source": [
    "\"\"\" Origin \n",
    "\n",
    "def tokenize(text):\n",
    "    pass\n",
    "\"\"\"\n",
    "def tokenize1(text):\n",
    "    \n",
    "    # if text is np.nan\n",
    "    \n",
    "    #only low case\n",
    "    #text = text.v\n",
    "    \n",
    "    # get rid nonalphanumeric characters\n",
    "    # https://regexr.com/3a8p3 - testing possible     \n",
    "    not_alphanumeric_reg = r\"[^a-zA-Z0-9]\"\n",
    "    text = re.sub(not_alphanumeric_reg, \" \", text)\n",
    "    \n",
    "    \n",
    "    #tokenize \n",
    "    tokens = word_tokenize(text)\n",
    "    \n",
    "    \n",
    "    # init a remove stopwords\n",
    "    stop_words = stopwords.words(\"english\")\n",
    "    #vystup = [lemmatizer.lemmatize(p) for p in tokens if not p in stop_words]\n",
    "    \n",
    "    #lematizer instance\n",
    "    lemmatizer = WordNetLemmatizer()\n",
    "    \n",
    "    #stemmer instance \n",
    "    stemmer = PorterStemmer()\n",
    "    \n",
    "    \n",
    "       \n",
    "    \n",
    "\n",
    "    clean_tokens = []\n",
    "    for tok in tokens:\n",
    "        if tok not in stop_words:\n",
    "            # clean_tok = lemmatizer.lemmatize(tok).lower().strip()\n",
    "            noun_lemmatize_tok = lemmatizer.lemmatize(tok)\n",
    "            verb_lemmatize_tok = lemmatizer.lemmatize(noun_lemmatize_tok,pos=\"v\")\n",
    "            stem_lem_token = stemmer.stem(verb_lemmatize_tok)\n",
    "\n",
    "            new_tok = stem_lem_token.lower().strip() \n",
    "            clean_tokens.append(new_tok)\n",
    "\n",
    "    return clean_tokens\n",
    "    pass"
   ]
  },
  {
   "cell_type": "code",
   "execution_count": 2,
   "metadata": {},
   "outputs": [
    {
     "ename": "NameError",
     "evalue": "name 'X_pandas' is not defined",
     "output_type": "error",
     "traceback": [
      "\u001b[1;31m---------------------------------------------------------------------------\u001b[0m",
      "\u001b[1;31mNameError\u001b[0m                                 Traceback (most recent call last)",
      "Cell \u001b[1;32mIn[2], line 3\u001b[0m\n\u001b[0;32m      1\u001b[0m \u001b[39m# [p.split(' ') for p in X_pandas.head().values]\u001b[39;00m\n\u001b[0;32m      2\u001b[0m \u001b[39m#example tokenize1\u001b[39;00m\n\u001b[1;32m----> 3\u001b[0m [tokenize1(p) \u001b[39mfor\u001b[39;00m p \u001b[39min\u001b[39;00m X_pandas\u001b[39m.\u001b[39mhead()\u001b[39m.\u001b[39mvalues]\n",
      "\u001b[1;31mNameError\u001b[0m: name 'X_pandas' is not defined"
     ]
    }
   ],
   "source": [
    "# [p.split(' ') for p in X_pandas.head().values]\n",
    "#example tokenize1\n",
    "[tokenize1(p) for p in X_pandas.head().values]\n"
   ]
  },
  {
   "cell_type": "code",
   "execution_count": null,
   "metadata": {},
   "outputs": [],
   "source": [
    "   \n",
    "def tokenize2(text):\n",
    "    # normalize case and remove punctuation\n",
    "    text = re.sub(r\"[^a-zA-Z0-9]\", \" \", text.lower())\n",
    "    \n",
    "    stop_words = stopwords.words(\"english\")\n",
    "    lemmatizer = WordNetLemmatizer()\n",
    "   \n",
    "    \n",
    "    # tokenize text\n",
    "    tokens = word_tokenize(text)\n",
    "    \n",
    "    # lemmatize andremove stop words\n",
    "    tokens = [lemmatizer.lemmatize(word) for word in tokens if word not in stop_words]\n",
    "\n",
    "    return tokens    \n",
    "    \n",
    "    pass"
   ]
  },
  {
   "cell_type": "code",
   "execution_count": 3,
   "metadata": {},
   "outputs": [
    {
     "ename": "NameError",
     "evalue": "name 'X_pandas' is not defined",
     "output_type": "error",
     "traceback": [
      "\u001b[1;31m---------------------------------------------------------------------------\u001b[0m",
      "\u001b[1;31mNameError\u001b[0m                                 Traceback (most recent call last)",
      "Cell \u001b[1;32mIn[3], line 2\u001b[0m\n\u001b[0;32m      1\u001b[0m \u001b[39m#example tokenize2\u001b[39;00m\n\u001b[1;32m----> 2\u001b[0m [tokenize2(p) \u001b[39mfor\u001b[39;00m p \u001b[39min\u001b[39;00m X_pandas\u001b[39m.\u001b[39mhead()\u001b[39m.\u001b[39mvalues]\n",
      "\u001b[1;31mNameError\u001b[0m: name 'X_pandas' is not defined"
     ]
    }
   ],
   "source": [
    "#example tokenize2\n",
    "[tokenize2(p) for p in X_pandas.head().values]"
   ]
  },
  {
   "cell_type": "markdown",
   "metadata": {},
   "source": [
    "tokenize1 method and tokenize2 method are giving same output"
   ]
  },
  {
   "cell_type": "code",
   "execution_count": 4,
   "metadata": {},
   "outputs": [
    {
     "data": {
      "text/plain": [
       "'\\n# zdrojove\\ndef display_results(y_test, y_pred):\\n    labels = np.unique(y_pred)\\n    confusion_mat = confusion_matrix(y_test, y_pred, labels=labels)\\n    accuracy = (y_pred == y_test).mean()\\n\\n    print(\"Labels:\", labels)\\n    print(\"Confusion Matrix:\\n\", confusion_mat)\\n    print(\"Accuracy:\", accuracy)\\n\\n\\ndef main():\\n    X, y = load_data()\\n    X_train, X_test, y_train, y_test = train_test_split(X, y)\\n\\n    pipeline = Pipeline([\\n        (\\'vect\\', CountVectorizer(tokenizer=tokenize)),\\n        (\\'tfidf\\', TfidfTransformer()),\\n        (\\'clf\\', RandomForestClassifier())\\n    ])\\n\\n    # train classifier\\n    pipeline.fit(X_train, y_train)\\n\\n    # predict on test data\\n    y_pred = pipeline.predict(X_test)\\n\\n    # display results\\n    display_results(y_test, y_pred)\\n\\n\\nmain()\\n'"
      ]
     },
     "execution_count": 4,
     "metadata": {},
     "output_type": "execute_result"
    }
   ],
   "source": [
    "\"\"\"\n",
    "# zdrojove\n",
    "def display_results(y_test, y_pred):\n",
    "    labels = np.unique(y_pred)\n",
    "    confusion_mat = confusion_matrix(y_test, y_pred, labels=labels)\n",
    "    accuracy = (y_pred == y_test).mean()\n",
    "\n",
    "    print(\"Labels:\", labels)\n",
    "    print(\"Confusion Matrix:\\n\", confusion_mat)\n",
    "    print(\"Accuracy:\", accuracy)\n",
    "\n",
    "\n",
    "def main():\n",
    "    X, y = load_data()\n",
    "    X_train, X_test, y_train, y_test = train_test_split(X, y)\n",
    "\n",
    "    pipeline = Pipeline([\n",
    "        ('vect', CountVectorizer(tokenizer=tokenize)),\n",
    "        ('tfidf', TfidfTransformer()),\n",
    "        ('clf', RandomForestClassifier())\n",
    "    ])\n",
    "\n",
    "    # train classifier\n",
    "    pipeline.fit(X_train, y_train)\n",
    "\n",
    "    # predict on test data\n",
    "    y_pred = pipeline.predict(X_test)\n",
    "\n",
    "    # display results\n",
    "    display_results(y_test, y_pred)\n",
    "\n",
    "\n",
    "main()\n",
    "\"\"\""
   ]
  },
  {
   "cell_type": "markdown",
   "metadata": {},
   "source": [
    "### 3. Build a machine learning pipeline\n",
    "This machine pipeline should take in the `message` column as input and output classification results on the other 36 categories in the dataset. You may find the [MultiOutputClassifier](http://scikit-learn.org/stable/modules/generated/sklearn.multioutput.MultiOutputClassifier.html) helpful for predicting multiple target variables."
   ]
  },
  {
   "cell_type": "code",
   "execution_count": 5,
   "metadata": {},
   "outputs": [],
   "source": [
    "\n",
    "def model_pipeline():\n",
    "    # TfidfVectorizer is the combination of CountVectorizer + TfidfTransformer.\n",
    "    pipeline = Pipeline([\n",
    "                ('vect', CountVectorizer(tokenizer=tokenize1)),\n",
    "                ('tfidf', TfidfTransformer()),\n",
    "                ('clf', MultiOutputClassifier(RandomForestClassifier(n_estimators = 100)))\n",
    "                        ])\n",
    "    return pipeline\n",
    "pass"
   ]
  },
  {
   "cell_type": "markdown",
   "metadata": {},
   "source": [
    "### 4. Train pipeline\n",
    "- Split data into train and test sets\n",
    "- Train pipeline"
   ]
  },
  {
   "cell_type": "code",
   "execution_count": 6,
   "metadata": {},
   "outputs": [
    {
     "ename": "ModuleNotFoundError",
     "evalue": "No module named 'sklearn'",
     "output_type": "error",
     "traceback": [
      "\u001b[1;31m---------------------------------------------------------------------------\u001b[0m",
      "\u001b[1;31mModuleNotFoundError\u001b[0m                       Traceback (most recent call last)",
      "Cell \u001b[1;32mIn[6], line 1\u001b[0m\n\u001b[1;32m----> 1\u001b[0m \u001b[39mfrom\u001b[39;00m \u001b[39msklearn\u001b[39;00m\u001b[39m.\u001b[39;00m\u001b[39mmodel_selection\u001b[39;00m \u001b[39mimport\u001b[39;00m GridSearchCV, train_test_split\n\u001b[0;32m      2\u001b[0m X_train, X_test, Y_train, Y_test \u001b[39m=\u001b[39m train_test_split(X, Y, test_size \u001b[39m=\u001b[39m \u001b[39m0.3\u001b[39m)\n",
      "\u001b[1;31mModuleNotFoundError\u001b[0m: No module named 'sklearn'"
     ]
    }
   ],
   "source": [
    "from sklearn.model_selection import GridSearchCV, train_test_split\n",
    "X_train, X_test, Y_train, Y_test = train_test_split(X, Y, test_size = 0.3) "
   ]
  },
  {
   "cell_type": "code",
   "execution_count": 7,
   "metadata": {},
   "outputs": [
    {
     "ename": "NameError",
     "evalue": "name 'X' is not defined",
     "output_type": "error",
     "traceback": [
      "\u001b[1;31m---------------------------------------------------------------------------\u001b[0m",
      "\u001b[1;31mNameError\u001b[0m                                 Traceback (most recent call last)",
      "Cell \u001b[1;32mIn[7], line 7\u001b[0m\n\u001b[0;32m      1\u001b[0m \u001b[39mprint\u001b[39m(\u001b[39m\"\"\"\u001b[39m\n\u001b[0;32m      2\u001b[0m \u001b[39m\\t\u001b[39;00m\u001b[39m X: \u001b[39m\u001b[39m{}\u001b[39;00m\n\u001b[0;32m      3\u001b[0m \u001b[39m\\t\u001b[39;00m\u001b[39m Y: \u001b[39m\u001b[39m{}\u001b[39;00m\n\u001b[0;32m      4\u001b[0m \u001b[39m\\t\u001b[39;00m\u001b[39m X_train: \u001b[39m\u001b[39m{}\u001b[39;00m\n\u001b[0;32m      5\u001b[0m \u001b[39m\\t\u001b[39;00m\u001b[39m X_test: \u001b[39m\u001b[39m{}\u001b[39;00m\n\u001b[0;32m      6\u001b[0m \u001b[39m\\t\u001b[39;00m\u001b[39m Y_train: \u001b[39m\u001b[39m{}\u001b[39;00m\n\u001b[1;32m----> 7\u001b[0m \u001b[39m\\t\u001b[39;00m\u001b[39m Y_test: \u001b[39m\u001b[39m{}\u001b[39;00m\u001b[39m\"\"\"\u001b[39m\u001b[39m.\u001b[39mformat(X\u001b[39m.\u001b[39mshape,Y\u001b[39m.\u001b[39mshape,X_train\u001b[39m.\u001b[39mshape, X_test\u001b[39m.\u001b[39mshape, Y_train\u001b[39m.\u001b[39mshape , Y_test\u001b[39m.\u001b[39mshape)\n\u001b[0;32m      8\u001b[0m      )\n",
      "\u001b[1;31mNameError\u001b[0m: name 'X' is not defined"
     ]
    }
   ],
   "source": [
    "print(\"\"\"\n",
    "\\t X: {}\n",
    "\\t Y: {}\n",
    "\\t X_train: {}\n",
    "\\t X_test: {}\n",
    "\\t Y_train: {}\n",
    "\\t Y_test: {}\"\"\".format(X.shape,Y.shape,X_train.shape, X_test.shape, Y_train.shape , Y_test.shape)\n",
    "     )\n"
   ]
  },
  {
   "cell_type": "code",
   "execution_count": 8,
   "metadata": {},
   "outputs": [
    {
     "ename": "NameError",
     "evalue": "name 'X_test' is not defined",
     "output_type": "error",
     "traceback": [
      "\u001b[1;31m---------------------------------------------------------------------------\u001b[0m",
      "\u001b[1;31mNameError\u001b[0m                                 Traceback (most recent call last)",
      "Cell \u001b[1;32mIn[8], line 1\u001b[0m\n\u001b[1;32m----> 1\u001b[0m X_test[\u001b[39m1\u001b[39m]\n",
      "\u001b[1;31mNameError\u001b[0m: name 'X_test' is not defined"
     ]
    }
   ],
   "source": [
    "X_test[1]"
   ]
  },
  {
   "cell_type": "code",
   "execution_count": 9,
   "metadata": {},
   "outputs": [
    {
     "ename": "NameError",
     "evalue": "name 'Y_test' is not defined",
     "output_type": "error",
     "traceback": [
      "\u001b[1;31m---------------------------------------------------------------------------\u001b[0m",
      "\u001b[1;31mNameError\u001b[0m                                 Traceback (most recent call last)",
      "Cell \u001b[1;32mIn[9], line 1\u001b[0m\n\u001b[1;32m----> 1\u001b[0m Y_test[\u001b[39m1\u001b[39m]\n",
      "\u001b[1;31mNameError\u001b[0m: name 'Y_test' is not defined"
     ]
    }
   ],
   "source": [
    "Y_test[1]"
   ]
  },
  {
   "cell_type": "code",
   "execution_count": 10,
   "metadata": {},
   "outputs": [
    {
     "ename": "NameError",
     "evalue": "name 'X' is not defined",
     "output_type": "error",
     "traceback": [
      "\u001b[1;31m---------------------------------------------------------------------------\u001b[0m",
      "\u001b[1;31mNameError\u001b[0m                                 Traceback (most recent call last)",
      "Cell \u001b[1;32mIn[10], line 7\u001b[0m\n\u001b[0;32m      1\u001b[0m \u001b[39mprint\u001b[39m(\u001b[39m\"\"\"\u001b[39m\n\u001b[0;32m      2\u001b[0m \u001b[39m\\t\u001b[39;00m\u001b[39m X: \u001b[39m\u001b[39m{}\u001b[39;00m\n\u001b[0;32m      3\u001b[0m \u001b[39m\\t\u001b[39;00m\u001b[39m Y: \u001b[39m\u001b[39m{}\u001b[39;00m\n\u001b[0;32m      4\u001b[0m \u001b[39m\\t\u001b[39;00m\u001b[39m X_train: \u001b[39m\u001b[39m{}\u001b[39;00m\n\u001b[0;32m      5\u001b[0m \u001b[39m\\t\u001b[39;00m\u001b[39m X_test: \u001b[39m\u001b[39m{}\u001b[39;00m\n\u001b[0;32m      6\u001b[0m \u001b[39m\\t\u001b[39;00m\u001b[39m Y_train: \u001b[39m\u001b[39m{}\u001b[39;00m\n\u001b[1;32m----> 7\u001b[0m \u001b[39m\\t\u001b[39;00m\u001b[39m Y_test: \u001b[39m\u001b[39m{}\u001b[39;00m\u001b[39m\"\"\"\u001b[39m\u001b[39m.\u001b[39mformat(\u001b[39mtype\u001b[39m(X),\u001b[39mtype\u001b[39m(Y),\u001b[39mtype\u001b[39m(X_train),\u001b[39mtype\u001b[39m(X_test),\u001b[39mtype\u001b[39m(Y_train),\u001b[39mtype\u001b[39m(Y_test)\n\u001b[0;32m      8\u001b[0m                        ))\n",
      "\u001b[1;31mNameError\u001b[0m: name 'X' is not defined"
     ]
    }
   ],
   "source": [
    "print(\"\"\"\n",
    "\\t X: {}\n",
    "\\t Y: {}\n",
    "\\t X_train: {}\n",
    "\\t X_test: {}\n",
    "\\t Y_train: {}\n",
    "\\t Y_test: {}\"\"\".format(type(X),type(Y),type(X_train),type(X_test),type(Y_train),type(Y_test)\n",
    "                       ))"
   ]
  },
  {
   "cell_type": "code",
   "execution_count": 11,
   "metadata": {},
   "outputs": [
    {
     "ename": "ModuleNotFoundError",
     "evalue": "No module named 'sklearn'",
     "output_type": "error",
     "traceback": [
      "\u001b[1;31m---------------------------------------------------------------------------\u001b[0m",
      "\u001b[1;31mModuleNotFoundError\u001b[0m                       Traceback (most recent call last)",
      "Cell \u001b[1;32mIn[11], line 2\u001b[0m\n\u001b[0;32m      1\u001b[0m \u001b[39m# Troubleshooting\u001b[39;00m\n\u001b[1;32m----> 2\u001b[0m \u001b[39mfrom\u001b[39;00m \u001b[39msklearn\u001b[39;00m\u001b[39m.\u001b[39;00m\u001b[39mfeature_extraction\u001b[39;00m\u001b[39m.\u001b[39;00m\u001b[39mtext\u001b[39;00m \u001b[39mimport\u001b[39;00m CountVectorizer\n\u001b[0;32m      4\u001b[0m \u001b[39m# initialize count vectorizer object\u001b[39;00m\n\u001b[0;32m      5\u001b[0m vect \u001b[39m=\u001b[39m CountVectorizer(tokenizer\u001b[39m=\u001b[39mtokenize1)\u001b[39m# get counts of each token (word) in text data\u001b[39;00m\n",
      "\u001b[1;31mModuleNotFoundError\u001b[0m: No module named 'sklearn'"
     ]
    }
   ],
   "source": [
    "# Troubleshooting\n",
    "from sklearn.feature_extraction.text import CountVectorizer\n",
    "\n",
    "# initialize count vectorizer object\n",
    "vect = CountVectorizer(tokenizer=tokenize1)# get counts of each token (word) in text data\n",
    "\n",
    "# get counts of each token (word) in text data\n",
    "corpus = X\n",
    "X = vect.fit_transform(corpus)\n",
    "\n",
    "# view token vocabulary and counts\n",
    "#vect.vocabulary_\n",
    "\n",
    "# convert sparse matrix to numpy array to view\n",
    "X\n",
    "\n",
    "\n",
    "\n"
   ]
  },
  {
   "cell_type": "code",
   "execution_count": 12,
   "metadata": {},
   "outputs": [
    {
     "ename": "NameError",
     "evalue": "name 'Pipeline' is not defined",
     "output_type": "error",
     "traceback": [
      "\u001b[1;31m---------------------------------------------------------------------------\u001b[0m",
      "\u001b[1;31mNameError\u001b[0m                                 Traceback (most recent call last)",
      "Cell \u001b[1;32mIn[12], line 2\u001b[0m\n\u001b[0;32m      1\u001b[0m \u001b[39m# train classifier\u001b[39;00m\n\u001b[1;32m----> 2\u001b[0m model \u001b[39m=\u001b[39m model_pipeline()\n\u001b[0;32m      3\u001b[0m model\u001b[39m.\u001b[39mfit(X_train, Y_train)\n",
      "Cell \u001b[1;32mIn[5], line 3\u001b[0m, in \u001b[0;36mmodel_pipeline\u001b[1;34m()\u001b[0m\n\u001b[0;32m      1\u001b[0m \u001b[39mdef\u001b[39;00m \u001b[39mmodel_pipeline\u001b[39m():\n\u001b[0;32m      2\u001b[0m     \u001b[39m# TfidfVectorizer is the combination of CountVectorizer + TfidfTransformer.\u001b[39;00m\n\u001b[1;32m----> 3\u001b[0m     pipeline \u001b[39m=\u001b[39m Pipeline([\n\u001b[0;32m      4\u001b[0m                 (\u001b[39m'\u001b[39m\u001b[39mvect\u001b[39m\u001b[39m'\u001b[39m, CountVectorizer(tokenizer\u001b[39m=\u001b[39mtokenize1)),\n\u001b[0;32m      5\u001b[0m                 (\u001b[39m'\u001b[39m\u001b[39mtfidf\u001b[39m\u001b[39m'\u001b[39m, TfidfTransformer()),\n\u001b[0;32m      6\u001b[0m                 (\u001b[39m'\u001b[39m\u001b[39mclf\u001b[39m\u001b[39m'\u001b[39m, MultiOutputClassifier(RandomForestClassifier(n_estimators \u001b[39m=\u001b[39m \u001b[39m100\u001b[39m)))\n\u001b[0;32m      7\u001b[0m                         ])\n\u001b[0;32m      8\u001b[0m     \u001b[39mreturn\u001b[39;00m pipeline\n",
      "\u001b[1;31mNameError\u001b[0m: name 'Pipeline' is not defined"
     ]
    }
   ],
   "source": [
    "# train classifier\n",
    "model = model_pipeline()\n",
    "model.fit(X_train, Y_train)"
   ]
  },
  {
   "cell_type": "markdown",
   "metadata": {},
   "source": [
    "### 5. Test your model\n",
    "Report the f1 score, precision and recall for each output category of the dataset. You can do this by iterating through the columns and calling sklearn's `classification_report` on each."
   ]
  },
  {
   "cell_type": "code",
   "execution_count": null,
   "metadata": {},
   "outputs": [],
   "source": [
    "# predict on test data moje\n",
    "\n",
    "y_pred = model.predict(X_test)"
   ]
  },
  {
   "cell_type": "markdown",
   "metadata": {},
   "source": [
    "### 6. Improve your model\n",
    "Use grid search to find better parameters. "
   ]
  },
  {
   "cell_type": "code",
   "execution_count": null,
   "metadata": {},
   "outputs": [],
   "source": [
    "parameters = {#'clf__estimator__n_estimators': (5 ,10),\n",
    "             \n",
    "             'vect__ngram_range': ((1, 1), (1, 2)),\n",
    "             'tfidf__use_idf': (True, False),\n",
    "             'clf__n_estimators': [50, 100, 200]\n",
    "             }\n",
    "\n",
    "cv = GridSearchCV(pipeline, param_grid=parameters, verbose=1)\n",
    "\n",
    "\n",
    "cv.fit(X_train, Y_train)"
   ]
  },
  {
   "cell_type": "markdown",
   "metadata": {},
   "source": [
    "### 7. Test your model\n",
    "Show the accuracy, precision, and recall of the tuned model.  \n",
    "\n",
    "Since this project focuses on code quality, process, and  pipelines, there is no minimum performance metric needed to pass. However, make sure to fine tune your models for accuracy, precision and recall to make your project stand out - especially for your portfolio!"
   ]
  },
  {
   "cell_type": "code",
   "execution_count": null,
   "metadata": {},
   "outputs": [],
   "source": [
    "from sklearn.metrics import classification_report\n",
    "Y_pred = cv.predict(X_test)\n",
    "    \n",
    "Y_pred_df = pd.DataFrame(Y_pred, columns = categories_columns)\n",
    "    \n",
    "for i in range(36):\n",
    "        \n",
    "    print('Category: {}'.format(categories_columns[i], \"\\n\\n\\n\",\n",
    "          classification_report(Y_test.iloc[:,i], Y_pred_df.iloc[:,i])))"
   ]
  },
  {
   "cell_type": "markdown",
   "metadata": {},
   "source": [
    "### 8. Try improving your model further. Here are a few ideas:\n",
    "* try other machine learning algorithms\n",
    "* add other features besides the TF-IDF"
   ]
  },
  {
   "cell_type": "code",
   "execution_count": null,
   "metadata": {},
   "outputs": [],
   "source": []
  },
  {
   "cell_type": "code",
   "execution_count": null,
   "metadata": {},
   "outputs": [],
   "source": [
    "#\n",
    "def display_results(y_test, y_pred):\n",
    "    labels = np.unique(y_pred)\n",
    "    confusion_mat = confusion_matrix(y_test, y_pred, labels=labels)\n",
    "    accuracy = (y_pred == y_test).mean()\n",
    "\n",
    "    print(\"Labels:\", labels)\n",
    "    print(\"Confusion Matrix:\\n\", confusion_mat)\n",
    "    print(\"Accuracy:\", accuracy)\n",
    "\n",
    "\n",
    "display_results(Y_test, Y_pred)\n",
    "\n",
    "\n",
    "\n",
    "\n",
    "\n"
   ]
  },
  {
   "cell_type": "markdown",
   "metadata": {},
   "source": [
    "### 9. Export your model as a pickle file"
   ]
  },
  {
   "cell_type": "code",
   "execution_count": null,
   "metadata": {},
   "outputs": [],
   "source": [
    "pickle_file_name = cv\n",
    "pickle_filepath = \"\"\n",
    "pickle.dump(pickle_file_name)\n",
    "#pickle.dump(pickle_file_name, open(pickle_filepath, 'wb'))"
   ]
  },
  {
   "cell_type": "markdown",
   "metadata": {},
   "source": [
    "### 10. Use this notebook to complete `train.py`\n",
    "Use the template file attached in the Resources folder to write a script that runs the steps above to create a database and export a model based on a new dataset specified by the user."
   ]
  },
  {
   "cell_type": "code",
   "execution_count": null,
   "metadata": {},
   "outputs": [],
   "source": []
  }
 ],
 "metadata": {
  "kernelspec": {
   "display_name": "udacity3913",
   "language": "python",
   "name": "python3"
  },
  "language_info": {
   "codemirror_mode": {
    "name": "ipython",
    "version": 3
   },
   "file_extension": ".py",
   "mimetype": "text/x-python",
   "name": "python",
   "nbconvert_exporter": "python",
   "pygments_lexer": "ipython3",
   "version": "3.10.8"
  },
  "vscode": {
   "interpreter": {
    "hash": "7ac10ae760cfbe41560696800e005756b41ce27440f410e1871fa655d73411b0"
   }
  }
 },
 "nbformat": 4,
 "nbformat_minor": 2
}

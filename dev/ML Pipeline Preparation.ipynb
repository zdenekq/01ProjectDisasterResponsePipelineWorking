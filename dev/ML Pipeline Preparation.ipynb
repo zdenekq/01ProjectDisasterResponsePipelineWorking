{
 "cells": [
  {
   "cell_type": "markdown",
   "metadata": {},
   "source": [
    "# ML Pipeline Preparation\n",
    "Follow the instructions below to help you create your ML pipeline.\n",
    "### 1. Import libraries and load data from database.\n",
    "- Import Python libraries\n",
    "- Load dataset from database with [`read_sql_table`](https://pandas.pydata.org/pandas-docs/stable/generated/pandas.read_sql_table.html)\n",
    "- Define feature and target variables X and Y\n",
    "\n",
    "https://towardsdatascience.com/building-a-disaster-response-web-application-4066e6f90072"
   ]
  },
  {
   "cell_type": "code",
   "execution_count": 1,
   "metadata": {},
   "outputs": [],
   "source": [
    "# import libraries pak smaze\n",
    "import pandas as pd\n",
    "import numpy as np\n",
    "import sys # is not necessary\n",
    "\n",
    "from sqlalchemy import create_engine\n",
    "\n",
    "import pickle\n",
    "\n",
    "from sklearn.datasets import make_multilabel_classification\n",
    "from sklearn.multioutput import MultiOutputClassifier\n",
    "\n",
    "\n",
    "\n",
    "\n",
    "# from flask_sqlalchemy import SQLAlchemy https://pythonbasics.org/flask-sqlalchemy/#Flask-SQLAlchemy"
   ]
  },
  {
   "cell_type": "code",
   "execution_count": 2,
   "metadata": {},
   "outputs": [
    {
     "name": "stdout",
     "output_type": "stream",
     "text": [
      "[nltk_data] Downloading package punkt to /root/nltk_data...\n",
      "[nltk_data]   Unzipping tokenizers/punkt.zip.\n",
      "[nltk_data] Downloading package wordnet to /root/nltk_data...\n",
      "[nltk_data] Downloading package stopwords to /root/nltk_data...\n",
      "[nltk_data]   Unzipping corpora/stopwords.zip.\n"
     ]
    }
   ],
   "source": [
    "# import nltk and sklearn libraries\n",
    "import re\n",
    "import nltk\n",
    "from nltk.corpus import stopwords\n",
    "from nltk.tokenize import word_tokenize\n",
    "from nltk.stem import WordNetLemmatizer, PorterStemmer\n",
    "nltk.download(['punkt', 'wordnet','stopwords'])\n",
    "import sys # asi není potřeba\n",
    "\n",
    "\n",
    "from sklearn.datasets import make_multilabel_classification\n",
    "\n",
    "from sklearn.multioutput import MultiOutputClassifier\n",
    "from sklearn.linear_model import LogisticRegression\n",
    "##########################################################################\n",
    "from sklearn.pipeline import Pipeline\n",
    "from sklearn.metrics import confusion_matrix\n",
    "from sklearn.model_selection import train_test_split\n",
    "from sklearn.feature_extraction.text import TfidfVectorizer, HashingVectorizer\n",
    "from sklearn.ensemble import RandomForestClassifier\n",
    "from sklearn.feature_extraction.text import CountVectorizer, TfidfTransformer\n",
    "\n",
    "from sklearn.model_selection import GridSearchCV\n",
    "\n"
   ]
  },
  {
   "cell_type": "code",
   "execution_count": 3,
   "metadata": {},
   "outputs": [
    {
     "data": {
      "text/plain": [
       "Index(['id', 'message', 'original', 'genre', 'related', 'request', 'offer',\n",
       "       'aid_related', 'medical_help', 'medical_products', 'search_and_rescue',\n",
       "       'security', 'military', 'child_alone', 'water', 'food', 'shelter',\n",
       "       'clothing', 'money', 'missing_people', 'refugees', 'death', 'other_aid',\n",
       "       'infrastructure_related', 'transport', 'buildings', 'electricity',\n",
       "       'tools', 'hospitals', 'shops', 'aid_centers', 'other_infrastructure',\n",
       "       'weather_related', 'floods', 'storm', 'fire', 'earthquake', 'cold',\n",
       "       'other_weather', 'direct_report'],\n",
       "      dtype='object')"
      ]
     },
     "execution_count": 3,
     "metadata": {},
     "output_type": "execute_result"
    }
   ],
   "source": [
    "# load data from database\n",
    "engine = create_engine('sqlite:///InsertDatabaseName.db').connect()  \n",
    "df = pd.read_sql_table('InsertTableName', engine)\n",
    "df.columns"
   ]
  },
  {
   "cell_type": "code",
   "execution_count": 4,
   "metadata": {},
   "outputs": [],
   "source": [
    "# removes rows which are null in message column\n",
    "df.dropna(subset=['message'],axis=0,inplace=True)\n",
    "\n",
    "# This machine pipeline should take in the message column as input \n",
    "X_pandas = df.message\n",
    "# creates numpy\n",
    "X = X_pandas.values\n",
    "\n",
    "Y_pandas= df.drop(columns = ['id','message','original','genre'], axis = 1)\n",
    "Y = Y_pandas.values\n",
    "\n",
    "categories_columns = Y_pandas.columns"
   ]
  },
  {
   "cell_type": "code",
   "execution_count": 5,
   "metadata": {},
   "outputs": [
    {
     "data": {
      "text/plain": [
       "((25993,), (25993, 36))"
      ]
     },
     "execution_count": 5,
     "metadata": {},
     "output_type": "execute_result"
    }
   ],
   "source": [
    "X.shape,Y.shape"
   ]
  },
  {
   "cell_type": "code",
   "execution_count": 6,
   "metadata": {},
   "outputs": [
    {
     "data": {
      "text/plain": [
       "(numpy.ndarray, numpy.ndarray)"
      ]
     },
     "execution_count": 6,
     "metadata": {},
     "output_type": "execute_result"
    }
   ],
   "source": [
    "(type(X),type(Y))\n",
    "# df.info()"
   ]
  },
  {
   "cell_type": "code",
   "execution_count": 7,
   "metadata": {},
   "outputs": [
    {
     "name": "stdout",
     "output_type": "stream",
     "text": [
      "<class 'pandas.core.frame.DataFrame'>\n",
      "Int64Index: 25993 entries, 0 to 25992\n",
      "Data columns (total 36 columns):\n",
      "related                   25993 non-null int64\n",
      "request                   25993 non-null int64\n",
      "offer                     25993 non-null int64\n",
      "aid_related               25993 non-null int64\n",
      "medical_help              25993 non-null int64\n",
      "medical_products          25993 non-null int64\n",
      "search_and_rescue         25993 non-null int64\n",
      "security                  25993 non-null int64\n",
      "military                  25993 non-null int64\n",
      "child_alone               25993 non-null int64\n",
      "water                     25993 non-null int64\n",
      "food                      25993 non-null int64\n",
      "shelter                   25993 non-null int64\n",
      "clothing                  25993 non-null int64\n",
      "money                     25993 non-null int64\n",
      "missing_people            25993 non-null int64\n",
      "refugees                  25993 non-null int64\n",
      "death                     25993 non-null int64\n",
      "other_aid                 25993 non-null int64\n",
      "infrastructure_related    25993 non-null int64\n",
      "transport                 25993 non-null int64\n",
      "buildings                 25993 non-null int64\n",
      "electricity               25993 non-null int64\n",
      "tools                     25993 non-null int64\n",
      "hospitals                 25993 non-null int64\n",
      "shops                     25993 non-null int64\n",
      "aid_centers               25993 non-null int64\n",
      "other_infrastructure      25993 non-null int64\n",
      "weather_related           25993 non-null int64\n",
      "floods                    25993 non-null int64\n",
      "storm                     25993 non-null int64\n",
      "fire                      25993 non-null int64\n",
      "earthquake                25993 non-null int64\n",
      "cold                      25993 non-null int64\n",
      "other_weather             25993 non-null int64\n",
      "direct_report             25993 non-null int64\n",
      "dtypes: int64(36)\n",
      "memory usage: 7.3 MB\n"
     ]
    }
   ],
   "source": [
    "Y_pandas.info()"
   ]
  },
  {
   "cell_type": "code",
   "execution_count": 8,
   "metadata": {},
   "outputs": [
    {
     "data": {
      "text/plain": [
       "'Weather update - a cold front from Cuba that could pass over Haiti'"
      ]
     },
     "execution_count": 8,
     "metadata": {},
     "output_type": "execute_result"
    }
   ],
   "source": [
    "X[0]"
   ]
  },
  {
   "cell_type": "code",
   "execution_count": null,
   "metadata": {},
   "outputs": [],
   "source": []
  },
  {
   "cell_type": "code",
   "execution_count": null,
   "metadata": {},
   "outputs": [],
   "source": []
  },
  {
   "cell_type": "markdown",
   "metadata": {},
   "source": [
    "### 2. Write a tokenization function to process your text data"
   ]
  },
  {
   "cell_type": "code",
   "execution_count": 9,
   "metadata": {},
   "outputs": [],
   "source": [
    "\"\"\" Origin \n",
    "\n",
    "def tokenize(text):\n",
    "    pass\n",
    "\"\"\"\n",
    "def tokenize1(text):\n",
    "    \n",
    "    # if text is np.nan\n",
    "    \n",
    "    #only low case\n",
    "    #text = text.v\n",
    "    \n",
    "    # get rid nonalphanumeric characters\n",
    "    # https://regexr.com/3a8p3 - testing possible     \n",
    "    not_alphanumeric_reg = r\"[^a-zA-Z0-9]\"\n",
    "    text = re.sub(not_alphanumeric_reg, \" \", text)\n",
    "    \n",
    "    \n",
    "    #tokenize \n",
    "    tokens = word_tokenize(text)\n",
    "    \n",
    "    \n",
    "    # init a remove stopwords\n",
    "    stop_words = stopwords.words(\"english\")\n",
    "    #vystup = [lemmatizer.lemmatize(p) for p in tokens if not p in stop_words]\n",
    "    \n",
    "    #lematizer instance\n",
    "    lemmatizer = WordNetLemmatizer()\n",
    "    \n",
    "    #stemmer instance \n",
    "    stemmer = PorterStemmer()\n",
    "    \n",
    "    \n",
    "       \n",
    "    \n",
    "\n",
    "    clean_tokens = []\n",
    "    for tok in tokens:\n",
    "        if tok not in stop_words:\n",
    "            # clean_tok = lemmatizer.lemmatize(tok).lower().strip()\n",
    "            noun_lemmatize_tok = lemmatizer.lemmatize(tok)\n",
    "            verb_lemmatize_tok = lemmatizer.lemmatize(noun_lemmatize_tok,pos=\"v\")\n",
    "            stem_lem_token = stemmer.stem(verb_lemmatize_tok)\n",
    "\n",
    "            new_tok = stem_lem_token.lower().strip() \n",
    "            clean_tokens.append(new_tok)\n",
    "\n",
    "    return clean_tokens\n",
    "    pass"
   ]
  },
  {
   "cell_type": "code",
   "execution_count": 10,
   "metadata": {},
   "outputs": [
    {
     "data": {
      "text/plain": [
       "[['weather', 'updat', 'cold', 'front', 'cuba', 'could', 'pa', 'haiti'],\n",
       " ['is', 'hurrican'],\n",
       " ['look', 'someon', 'name'],\n",
       " ['un',\n",
       "  'report',\n",
       "  'leogan',\n",
       "  '80',\n",
       "  '90',\n",
       "  'destroy',\n",
       "  'onli',\n",
       "  'hospit',\n",
       "  'st',\n",
       "  'croix',\n",
       "  'function',\n",
       "  'need',\n",
       "  'suppli',\n",
       "  'desper'],\n",
       " ['say', 'west', 'side', 'haiti', 'rest', 'countri', 'today', 'tonight']]"
      ]
     },
     "execution_count": 10,
     "metadata": {},
     "output_type": "execute_result"
    }
   ],
   "source": [
    "# [p.split(' ') for p in X_pandas.head().values]\n",
    "#example tokenize1\n",
    "[tokenize1(p) for p in X_pandas.head().values]\n"
   ]
  },
  {
   "cell_type": "code",
   "execution_count": 11,
   "metadata": {},
   "outputs": [],
   "source": [
    "   \n",
    "def tokenize2(text):\n",
    "    # normalize case and remove punctuation\n",
    "    text = re.sub(r\"[^a-zA-Z0-9]\", \" \", text.lower())\n",
    "    \n",
    "    stop_words = stopwords.words(\"english\")\n",
    "    lemmatizer = WordNetLemmatizer()\n",
    "   \n",
    "    \n",
    "    # tokenize text\n",
    "    tokens = word_tokenize(text)\n",
    "    \n",
    "    # lemmatize andremove stop words\n",
    "    tokens = [lemmatizer.lemmatize(word) for word in tokens if word not in stop_words]\n",
    "\n",
    "    return tokens    \n",
    "    \n",
    "    pass"
   ]
  },
  {
   "cell_type": "code",
   "execution_count": 12,
   "metadata": {},
   "outputs": [
    {
     "data": {
      "text/plain": [
       "[['weather', 'update', 'cold', 'front', 'cuba', 'could', 'pas', 'haiti'],\n",
       " ['hurricane'],\n",
       " ['looking', 'someone', 'name'],\n",
       " ['un',\n",
       "  'report',\n",
       "  'leogane',\n",
       "  '80',\n",
       "  '90',\n",
       "  'destroyed',\n",
       "  'hospital',\n",
       "  'st',\n",
       "  'croix',\n",
       "  'functioning',\n",
       "  'need',\n",
       "  'supply',\n",
       "  'desperately'],\n",
       " ['say', 'west', 'side', 'haiti', 'rest', 'country', 'today', 'tonight']]"
      ]
     },
     "execution_count": 12,
     "metadata": {},
     "output_type": "execute_result"
    }
   ],
   "source": [
    "#example tokenize2\n",
    "[tokenize2(p) for p in X_pandas.head().values]"
   ]
  },
  {
   "cell_type": "markdown",
   "metadata": {},
   "source": [
    "tokenize1 method and tokenize2 method are giving same output"
   ]
  },
  {
   "cell_type": "code",
   "execution_count": 13,
   "metadata": {},
   "outputs": [
    {
     "data": {
      "text/plain": [
       "'\\n# zdrojove\\ndef display_results(y_test, y_pred):\\n    labels = np.unique(y_pred)\\n    confusion_mat = confusion_matrix(y_test, y_pred, labels=labels)\\n    accuracy = (y_pred == y_test).mean()\\n\\n    print(\"Labels:\", labels)\\n    print(\"Confusion Matrix:\\n\", confusion_mat)\\n    print(\"Accuracy:\", accuracy)\\n\\n\\ndef main():\\n    X, y = load_data()\\n    X_train, X_test, y_train, y_test = train_test_split(X, y)\\n\\n    pipeline = Pipeline([\\n        (\\'vect\\', CountVectorizer(tokenizer=tokenize)),\\n        (\\'tfidf\\', TfidfTransformer()),\\n        (\\'clf\\', RandomForestClassifier())\\n    ])\\n\\n    # train classifier\\n    pipeline.fit(X_train, y_train)\\n\\n    # predict on test data\\n    y_pred = pipeline.predict(X_test)\\n\\n    # display results\\n    display_results(y_test, y_pred)\\n\\n\\nmain()\\n'"
      ]
     },
     "execution_count": 13,
     "metadata": {},
     "output_type": "execute_result"
    }
   ],
   "source": [
    "\"\"\"\n",
    "# zdrojove\n",
    "def display_results(y_test, y_pred):\n",
    "    labels = np.unique(y_pred)\n",
    "    confusion_mat = confusion_matrix(y_test, y_pred, labels=labels)\n",
    "    accuracy = (y_pred == y_test).mean()\n",
    "\n",
    "    print(\"Labels:\", labels)\n",
    "    print(\"Confusion Matrix:\\n\", confusion_mat)\n",
    "    print(\"Accuracy:\", accuracy)\n",
    "\n",
    "\n",
    "def main():\n",
    "    X, y = load_data()\n",
    "    X_train, X_test, y_train, y_test = train_test_split(X, y)\n",
    "\n",
    "    pipeline = Pipeline([\n",
    "        ('vect', CountVectorizer(tokenizer=tokenize)),\n",
    "        ('tfidf', TfidfTransformer()),\n",
    "        ('clf', RandomForestClassifier())\n",
    "    ])\n",
    "\n",
    "    # train classifier\n",
    "    pipeline.fit(X_train, y_train)\n",
    "\n",
    "    # predict on test data\n",
    "    y_pred = pipeline.predict(X_test)\n",
    "\n",
    "    # display results\n",
    "    display_results(y_test, y_pred)\n",
    "\n",
    "\n",
    "main()\n",
    "\"\"\""
   ]
  },
  {
   "cell_type": "markdown",
   "metadata": {},
   "source": [
    "### 3. Build a machine learning pipeline\n",
    "This machine pipeline should take in the `message` column as input and output classification results on the other 36 categories in the dataset. You may find the [MultiOutputClassifier](http://scikit-learn.org/stable/modules/generated/sklearn.multioutput.MultiOutputClassifier.html) helpful for predicting multiple target variables."
   ]
  },
  {
   "cell_type": "code",
   "execution_count": 14,
   "metadata": {},
   "outputs": [],
   "source": [
    "def model_pipeline():\n",
    "    # TfidfVectorizer is the combination of CountVectorizer + TfidfTransformer.\n",
    "    pipeline = Pipeline([\n",
    "                ('vect', CountVectorizer(tokenizer=tokenize1)),\n",
    "                ('tfidf', TfidfTransformer()),\n",
    "                ('clf', MultiOutputClassifier(RandomForestClassifier(n_estimators = 10)))\n",
    "                        ])\n",
    "    return pipeline\n",
    "pass"
   ]
  },
  {
   "cell_type": "markdown",
   "metadata": {},
   "source": [
    "### 4. Train pipeline\n",
    "- Split data into train and test sets\n",
    "- Train pipeline"
   ]
  },
  {
   "cell_type": "code",
   "execution_count": 15,
   "metadata": {},
   "outputs": [],
   "source": [
    "from sklearn.model_selection import GridSearchCV, train_test_splitfrom sklearn\n",
    "X_train, X_test, Y_train, Y_test = train_test_split(X, Y, test_size = 0.3) "
   ]
  },
  {
   "cell_type": "code",
   "execution_count": 16,
   "metadata": {},
   "outputs": [
    {
     "name": "stdout",
     "output_type": "stream",
     "text": [
      "\n",
      "\t X: (25993,)\n",
      "\t Y: (25993, 36)\n",
      "\t X_train: (18195,)\n",
      "\t X_test: (7798,)\n",
      "\t Y_train: (18195, 36)\n",
      "\t Y_test: (7798, 36)\n"
     ]
    }
   ],
   "source": [
    "print(\"\"\"\n",
    "\\t X: {}\n",
    "\\t Y: {}\n",
    "\\t X_train: {}\n",
    "\\t X_test: {}\n",
    "\\t Y_train: {}\n",
    "\\t Y_test: {}\"\"\".format(X.shape,Y.shape,X_train.shape, X_test.shape, Y_train.shape , Y_test.shape)\n",
    "     )\n"
   ]
  },
  {
   "cell_type": "code",
   "execution_count": 17,
   "metadata": {},
   "outputs": [
    {
     "data": {
      "text/plain": [
       "'There was a lot of debris floating in the water, including bar stools and other pieces of furniture from Macaronis Resort, he said.'"
      ]
     },
     "execution_count": 17,
     "metadata": {},
     "output_type": "execute_result"
    }
   ],
   "source": [
    "X_test[1]"
   ]
  },
  {
   "cell_type": "code",
   "execution_count": 18,
   "metadata": {},
   "outputs": [
    {
     "data": {
      "text/plain": [
       "array([1, 0, 0, 0, 0, 0, 0, 0, 0, 0, 0, 0, 0, 0, 0, 0, 0, 0, 0, 1, 0, 1, 0,\n",
       "       0, 0, 1, 0, 0, 0, 0, 0, 0, 0, 0, 0, 0])"
      ]
     },
     "execution_count": 18,
     "metadata": {},
     "output_type": "execute_result"
    }
   ],
   "source": [
    "Y_test[1]"
   ]
  },
  {
   "cell_type": "code",
   "execution_count": 19,
   "metadata": {},
   "outputs": [
    {
     "name": "stdout",
     "output_type": "stream",
     "text": [
      "\n",
      "\t X: <class 'numpy.ndarray'>\n",
      "\t Y: <class 'numpy.ndarray'>\n",
      "\t X_train: <class 'numpy.ndarray'>\n",
      "\t X_test: <class 'numpy.ndarray'>\n",
      "\t Y_train: <class 'numpy.ndarray'>\n",
      "\t Y_test: <class 'numpy.ndarray'>\n"
     ]
    }
   ],
   "source": [
    "print(\"\"\"\n",
    "\\t X: {}\n",
    "\\t Y: {}\n",
    "\\t X_train: {}\n",
    "\\t X_test: {}\n",
    "\\t Y_train: {}\n",
    "\\t Y_test: {}\"\"\".format(type(X),type(Y),type(X_train),type(X_test),type(Y_train),type(Y_test)\n",
    "                       ))"
   ]
  },
  {
   "cell_type": "code",
   "execution_count": 20,
   "metadata": {},
   "outputs": [
    {
     "data": {
      "text/plain": [
       "array([0, 0, 0, ..., 0, 0, 0])"
      ]
     },
     "execution_count": 20,
     "metadata": {},
     "output_type": "execute_result"
    }
   ],
   "source": [
    "Y_test[:, 5]"
   ]
  },
  {
   "cell_type": "code",
   "execution_count": 21,
   "metadata": {},
   "outputs": [
    {
     "data": {
      "text/plain": [
       "'# Troubleshooting\\nfrom sklearn.feature_extraction.text import CountVectorizer\\n\\n# initialize count vectorizer object\\nvect = CountVectorizer(tokenizer=tokenize1)# get counts of each token (word) in text data\\n\\n# get counts of each token (word) in text data\\ncorpus = X\\nX = vect.fit_transform(corpus)\\n\\n# view token vocabulary and counts\\n#vect.vocabulary_\\n\\n# convert sparse matrix to numpy array to view\\nX\\n\\n'"
      ]
     },
     "execution_count": 21,
     "metadata": {},
     "output_type": "execute_result"
    }
   ],
   "source": [
    "'''# Troubleshooting\n",
    "from sklearn.feature_extraction.text import CountVectorizer\n",
    "\n",
    "# initialize count vectorizer object\n",
    "vect = CountVectorizer(tokenizer=tokenize1)# get counts of each token (word) in text data\n",
    "\n",
    "# get counts of each token (word) in text data\n",
    "corpus = X\n",
    "X = vect.fit_transform(corpus)\n",
    "\n",
    "# view token vocabulary and counts\n",
    "#vect.vocabulary_\n",
    "\n",
    "# convert sparse matrix to numpy array to view\n",
    "X\n",
    "\n",
    "'''\n",
    "\n"
   ]
  },
  {
   "cell_type": "code",
   "execution_count": 22,
   "metadata": {
    "scrolled": true
   },
   "outputs": [
    {
     "data": {
      "text/plain": [
       "Pipeline(memory=None,\n",
       "     steps=[('vect', CountVectorizer(analyzer='word', binary=False, decode_error='strict',\n",
       "        dtype=<class 'numpy.int64'>, encoding='utf-8', input='content',\n",
       "        lowercase=True, max_df=1.0, max_features=None, min_df=1,\n",
       "        ngram_range=(1, 1), preprocessor=None, stop_words=None,\n",
       "        strip...oob_score=False, random_state=None, verbose=0,\n",
       "            warm_start=False),\n",
       "           n_jobs=1))])"
      ]
     },
     "execution_count": 22,
     "metadata": {},
     "output_type": "execute_result"
    }
   ],
   "source": [
    "# train classifier\n",
    "model = model_pipeline()\n",
    "model.fit(X_train, Y_train)"
   ]
  },
  {
   "cell_type": "markdown",
   "metadata": {},
   "source": [
    "### 5. Test your model\n",
    "Report the f1 score, precision and recall for each output category of the dataset. You can do this by iterating through the columns and calling sklearn's `classification_report` on each."
   ]
  },
  {
   "cell_type": "code",
   "execution_count": 23,
   "metadata": {
    "scrolled": true
   },
   "outputs": [
    {
     "name": "stdout",
     "output_type": "stream",
     "text": [
      "                        precision    recall  f1-score   support\n",
      "\n",
      "               related       0.85      0.92      0.88      5966\n",
      "               request       0.79      0.44      0.57      1359\n",
      "                 offer       0.00      0.00      0.00        37\n",
      "           aid_related       0.74      0.61      0.67      3250\n",
      "          medical_help       0.58      0.08      0.14       617\n",
      "      medical_products       0.64      0.08      0.14       356\n",
      "     search_and_rescue       0.50      0.02      0.04       227\n",
      "              security       0.20      0.01      0.01       140\n",
      "              military       0.57      0.12      0.20       258\n",
      "           child_alone       0.00      0.00      0.00         0\n",
      "                 water       0.86      0.25      0.39       467\n",
      "                  food       0.82      0.61      0.70       881\n",
      "               shelter       0.79      0.32      0.46       681\n",
      "              clothing       0.68      0.21      0.33        98\n",
      "                 money       0.40      0.01      0.02       173\n",
      "        missing_people       1.00      0.01      0.02        79\n",
      "              refugees       0.80      0.03      0.06       264\n",
      "                 death       0.82      0.09      0.17       384\n",
      "             other_aid       0.55      0.06      0.11      1048\n",
      "infrastructure_related       0.17      0.00      0.01       488\n",
      "             transport       0.76      0.09      0.16       379\n",
      "             buildings       0.73      0.12      0.21       401\n",
      "           electricity       0.70      0.05      0.09       147\n",
      "                 tools       0.00      0.00      0.00        44\n",
      "             hospitals       0.00      0.00      0.00        72\n",
      "                 shops       0.00      0.00      0.00        42\n",
      "           aid_centers       0.33      0.01      0.02        87\n",
      "  other_infrastructure       0.00      0.00      0.00       327\n",
      "       weather_related       0.85      0.62      0.72      2216\n",
      "                floods       0.91      0.30      0.45       677\n",
      "                 storm       0.77      0.45      0.57       748\n",
      "                  fire       0.00      0.00      0.00        91\n",
      "            earthquake       0.90      0.67      0.77       730\n",
      "                  cold       0.71      0.10      0.17       157\n",
      "         other_weather       0.53      0.05      0.08       415\n",
      "         direct_report       0.73      0.31      0.43      1576\n",
      "\n",
      "           avg / total       0.74      0.49      0.54     24882\n",
      "\n"
     ]
    },
    {
     "name": "stderr",
     "output_type": "stream",
     "text": [
      "/opt/conda/lib/python3.6/site-packages/sklearn/metrics/classification.py:1135: UndefinedMetricWarning: Precision and F-score are ill-defined and being set to 0.0 in labels with no predicted samples.\n",
      "  'precision', 'predicted', average, warn_for)\n",
      "/opt/conda/lib/python3.6/site-packages/sklearn/metrics/classification.py:1137: UndefinedMetricWarning: Recall and F-score are ill-defined and being set to 0.0 in labels with no true samples.\n",
      "  'recall', 'true', average, warn_for)\n"
     ]
    }
   ],
   "source": [
    "# predict on test data moje\n",
    "from sklearn.metrics import classification_report\n",
    "\n",
    "Y_predict = model.predict(X_test)\n",
    "\n",
    "\n",
    "\n",
    "print(classification_report(Y_test, Y_predict, target_names=categories_columns))\n",
    "\n"
   ]
  },
  {
   "cell_type": "code",
   "execution_count": 24,
   "metadata": {},
   "outputs": [
    {
     "data": {
      "text/plain": [
       "'\\n\\n\\n\\n\\nprint(classification_report(Y_test, Y_predict, target_names=categories_columns))\\n\\n'"
      ]
     },
     "execution_count": 24,
     "metadata": {},
     "output_type": "execute_result"
    }
   ],
   "source": [
    "from sklearn.utils.multiclass import type_of_target\n",
    "# Test the model and print the classification report for each of the 36 categories.\n",
    "def performance(model, X_test, Y_test):\n",
    "    Y_predict = model.predict(X_test)\n",
    "    # type_of_target([0.1, 0.6])\n",
    "    print(\"\"\"\n",
    "        \\t Y_predict type: {}\n",
    "        \\t Y_predict shape: {}\n",
    "        \\t Y_predict: {}\n",
    "        \\t Y_test: {}\"\"\".format(type(Y_predict),Y_predict.shape,type_of_target(Y_predict),type_of_target(Y_test)                            ))\n",
    "    \n",
    "    print(classification_report(Y_test, Y_predict, target_names=categories_columns))\n",
    "\n",
    "    '''\n",
    "    for i, col in enumerate(Y_test):\n",
    "        print(col)\n",
    "        \n",
    "        print(\"\"\"\n",
    "        \\t i=  {}\n",
    "        \\t col=  {}\"\"\".format(i,col))\n",
    "        \n",
    "        \n",
    "        # print(classification_report(Y_test[col], Y_predict[:, i]))\n",
    "        print(classification_report(Y_test[col], Y_predict[col]))\n",
    "    '''\n",
    "\n",
    "\n",
    "'''\n",
    "\n",
    "\n",
    "\n",
    "\n",
    "print(classification_report(Y_test, Y_predict, target_names=categories_columns))\n",
    "\n",
    "'''\n",
    "\n",
    "\n",
    "\n",
    "\n",
    "\n"
   ]
  },
  {
   "cell_type": "code",
   "execution_count": null,
   "metadata": {
    "scrolled": true
   },
   "outputs": [],
   "source": []
  },
  {
   "cell_type": "code",
   "execution_count": 25,
   "metadata": {},
   "outputs": [
    {
     "name": "stdout",
     "output_type": "stream",
     "text": [
      "\n",
      "        \t Y_predict type: <class 'numpy.ndarray'>\n",
      "        \t Y_predict shape: (7798, 36)\n",
      "        \t Y_predict: multilabel-indicator\n",
      "        \t Y_test: multilabel-indicator\n",
      "                        precision    recall  f1-score   support\n",
      "\n",
      "               related       0.85      0.92      0.88      5966\n",
      "               request       0.79      0.44      0.57      1359\n",
      "                 offer       0.00      0.00      0.00        37\n",
      "           aid_related       0.74      0.61      0.67      3250\n",
      "          medical_help       0.58      0.08      0.14       617\n",
      "      medical_products       0.64      0.08      0.14       356\n",
      "     search_and_rescue       0.50      0.02      0.04       227\n",
      "              security       0.20      0.01      0.01       140\n",
      "              military       0.57      0.12      0.20       258\n",
      "           child_alone       0.00      0.00      0.00         0\n",
      "                 water       0.86      0.25      0.39       467\n",
      "                  food       0.82      0.61      0.70       881\n",
      "               shelter       0.79      0.32      0.46       681\n",
      "              clothing       0.68      0.21      0.33        98\n",
      "                 money       0.40      0.01      0.02       173\n",
      "        missing_people       1.00      0.01      0.02        79\n",
      "              refugees       0.80      0.03      0.06       264\n",
      "                 death       0.82      0.09      0.17       384\n",
      "             other_aid       0.55      0.06      0.11      1048\n",
      "infrastructure_related       0.17      0.00      0.01       488\n",
      "             transport       0.76      0.09      0.16       379\n",
      "             buildings       0.73      0.12      0.21       401\n",
      "           electricity       0.70      0.05      0.09       147\n",
      "                 tools       0.00      0.00      0.00        44\n",
      "             hospitals       0.00      0.00      0.00        72\n",
      "                 shops       0.00      0.00      0.00        42\n",
      "           aid_centers       0.33      0.01      0.02        87\n",
      "  other_infrastructure       0.00      0.00      0.00       327\n",
      "       weather_related       0.85      0.62      0.72      2216\n",
      "                floods       0.91      0.30      0.45       677\n",
      "                 storm       0.77      0.45      0.57       748\n",
      "                  fire       0.00      0.00      0.00        91\n",
      "            earthquake       0.90      0.67      0.77       730\n",
      "                  cold       0.71      0.10      0.17       157\n",
      "         other_weather       0.53      0.05      0.08       415\n",
      "         direct_report       0.73      0.31      0.43      1576\n",
      "\n",
      "           avg / total       0.74      0.49      0.54     24882\n",
      "\n"
     ]
    },
    {
     "name": "stderr",
     "output_type": "stream",
     "text": [
      "/opt/conda/lib/python3.6/site-packages/sklearn/metrics/classification.py:1135: UndefinedMetricWarning: Precision and F-score are ill-defined and being set to 0.0 in labels with no predicted samples.\n",
      "  'precision', 'predicted', average, warn_for)\n",
      "/opt/conda/lib/python3.6/site-packages/sklearn/metrics/classification.py:1137: UndefinedMetricWarning: Recall and F-score are ill-defined and being set to 0.0 in labels with no true samples.\n",
      "  'recall', 'true', average, warn_for)\n"
     ]
    }
   ],
   "source": [
    "performance(model, X_test, Y_test)"
   ]
  },
  {
   "cell_type": "markdown",
   "metadata": {},
   "source": [
    "### 6. Improve your model\n",
    "Use grid search to find better parameters. "
   ]
  },
  {
   "cell_type": "code",
   "execution_count": 26,
   "metadata": {},
   "outputs": [],
   "source": [
    "# https://scikit-learn.org/stable/tutorial/statistical_inference/putting_together.html\n",
    "\n",
    "\n",
    "\n"
   ]
  },
  {
   "cell_type": "code",
   "execution_count": 27,
   "metadata": {},
   "outputs": [],
   "source": [
    "# estimator.get_params() not relevant for "
   ]
  },
  {
   "cell_type": "code",
   "execution_count": 28,
   "metadata": {},
   "outputs": [
    {
     "name": "stdout",
     "output_type": "stream",
     "text": [
      "cv\n",
      "error_score\n",
      "estimator__memory\n",
      "estimator__steps\n",
      "estimator__vect\n",
      "estimator__tfidf\n",
      "estimator__clf\n",
      "estimator__vect__analyzer\n",
      "estimator__vect__binary\n",
      "estimator__vect__decode_error\n",
      "estimator__vect__dtype\n",
      "estimator__vect__encoding\n",
      "estimator__vect__input\n",
      "estimator__vect__lowercase\n",
      "estimator__vect__max_df\n",
      "estimator__vect__max_features\n",
      "estimator__vect__min_df\n",
      "estimator__vect__ngram_range\n",
      "estimator__vect__preprocessor\n",
      "estimator__vect__stop_words\n",
      "estimator__vect__strip_accents\n",
      "estimator__vect__token_pattern\n",
      "estimator__vect__tokenizer\n",
      "estimator__vect__vocabulary\n",
      "estimator__tfidf__norm\n",
      "estimator__tfidf__smooth_idf\n",
      "estimator__tfidf__sublinear_tf\n",
      "estimator__tfidf__use_idf\n",
      "estimator__clf__estimator__bootstrap\n",
      "estimator__clf__estimator__class_weight\n",
      "estimator__clf__estimator__criterion\n",
      "estimator__clf__estimator__max_depth\n",
      "estimator__clf__estimator__max_features\n",
      "estimator__clf__estimator__max_leaf_nodes\n",
      "estimator__clf__estimator__min_impurity_decrease\n",
      "estimator__clf__estimator__min_impurity_split\n",
      "estimator__clf__estimator__min_samples_leaf\n",
      "estimator__clf__estimator__min_samples_split\n",
      "estimator__clf__estimator__min_weight_fraction_leaf\n",
      "estimator__clf__estimator__n_estimators\n",
      "estimator__clf__estimator__n_jobs\n",
      "estimator__clf__estimator__oob_score\n",
      "estimator__clf__estimator__random_state\n",
      "estimator__clf__estimator__verbose\n",
      "estimator__clf__estimator__warm_start\n",
      "estimator__clf__estimator\n",
      "estimator__clf__n_jobs\n",
      "estimator\n",
      "fit_params\n",
      "iid\n",
      "n_jobs\n",
      "param_grid\n",
      "pre_dispatch\n",
      "refit\n",
      "return_train_score\n",
      "scoring\n",
      "verbose\n",
      "Fitting 3 folds for each of 18 candidates, totalling 54 fits\n"
     ]
    },
    {
     "name": "stderr",
     "output_type": "stream",
     "text": [
      "[Parallel(n_jobs=1)]: Done  54 out of  54 | elapsed: 66.6min finished\n"
     ]
    },
    {
     "data": {
      "text/plain": [
       "{'clf__estimator__min_samples_split': 3,\n",
       " 'clf__estimator__n_estimators': 20,\n",
       " 'tfidf__use_idf': False}"
      ]
     },
     "execution_count": 28,
     "metadata": {},
     "output_type": "execute_result"
    }
   ],
   "source": [
    "\n",
    "# %%script false  Lines I don't want to run - skipp cells\n",
    "'''\n",
    "parameters = {#'clf__estimator__n_estimators': (5 ,10),\n",
    "             \n",
    "             'vect__ngram_range': ((1, 1), (1, 2)),\n",
    "             'tfidf__use_idf': (True, False),\n",
    "             'clf__n_estimators': [50, 100, 200]\n",
    "             }\n",
    "\n",
    "\n",
    "parameters={'clf__max_features':[0.3, 0.5, 0.7],\n",
    "\n",
    "            'clf__min_samples_leaf':[1, 2, 3]\n",
    "\n",
    "            #'clf__max_depth':  [None]\n",
    "\n",
    "           }\n",
    "'''\n",
    "\n",
    "'''cv = GridSearchCV(pipeline, param_grid=params)\n",
    "\n",
    "cv.fit(X_train,y_train).\n",
    "'''\n",
    "\n",
    "# Hyperparameters grid\n",
    "parameters = {  \n",
    "              'tfidf__use_idf': (True, False), # asi tento 58dek smazat\n",
    "              'clf__estimator__n_estimators': [5, 10, 20], \n",
    "              'clf__estimator__min_samples_split': [2,3, 4]} \n",
    "\n",
    "\n",
    "\n",
    "\n",
    "# initialize \n",
    "cv = GridSearchCV(model_pipeline(), param_grid=parameters, verbose=1)\n",
    "# cv = GridSearchCV(model_pipeline())\n",
    "\n",
    "\n",
    "for param in cv.get_params().keys():\n",
    "    print(param)\n",
    "\n",
    "# fit\n",
    "cv.fit(X_train, Y_train)\n",
    "cv.best_params_"
   ]
  },
  {
   "cell_type": "markdown",
   "metadata": {},
   "source": [
    "### 7. Test your model\n",
    "Show the accuracy, precision, and recall of the tuned model.  \n",
    "\n",
    "Since this project focuses on code quality, process, and  pipelines, there is no minimum performance metric needed to pass. However, make sure to fine tune your models for accuracy, precision and recall to make your project stand out - especially for your portfolio!"
   ]
  },
  {
   "cell_type": "code",
   "execution_count": null,
   "metadata": {},
   "outputs": [],
   "source": []
  },
  {
   "cell_type": "code",
   "execution_count": 34,
   "metadata": {},
   "outputs": [
    {
     "name": "stdout",
     "output_type": "stream",
     "text": [
      "Category: related\n",
      "\n",
      "\n",
      " classification_report:              precision    recall  f1-score   support\n",
      "\n",
      "          0       0.70      0.41      0.52      1832\n",
      "          1       0.84      0.94      0.89      5966\n",
      "\n",
      "avg / total       0.81      0.82      0.80      7798\n",
      "\n",
      "Category: request\n",
      "\n",
      "\n",
      " classification_report:              precision    recall  f1-score   support\n",
      "\n",
      "          0       0.90      0.98      0.94      6439\n",
      "          1       0.81      0.49      0.61      1359\n",
      "\n",
      "avg / total       0.88      0.89      0.88      7798\n",
      "\n",
      "Category: offer\n",
      "\n",
      "\n",
      " classification_report:              precision    recall  f1-score   support\n",
      "\n",
      "          0       1.00      1.00      1.00      7761\n",
      "          1       0.00      0.00      0.00        37\n",
      "\n",
      "avg / total       0.99      1.00      0.99      7798\n",
      "\n",
      "Category: aid_related\n",
      "\n",
      "\n",
      " classification_report:              precision    recall  f1-score   support\n",
      "\n",
      "          0       0.79      0.82      0.80      4548\n",
      "          1       0.73      0.69      0.71      3250\n",
      "\n",
      "avg / total       0.77      0.77      0.77      7798\n",
      "\n",
      "Category: medical_help\n",
      "\n",
      "\n",
      " classification_report:              precision    recall  f1-score   support\n",
      "\n",
      "          0       0.93      0.99      0.96      7181\n",
      "          1       0.58      0.10      0.17       617\n",
      "\n",
      "avg / total       0.90      0.92      0.90      7798\n",
      "\n",
      "Category: medical_products\n",
      "\n",
      "\n",
      " classification_report:              precision    recall  f1-score   support\n",
      "\n",
      "          0       0.96      1.00      0.98      7442\n",
      "          1       0.71      0.08      0.15       356\n",
      "\n",
      "avg / total       0.95      0.96      0.94      7798\n",
      "\n",
      "Category: search_and_rescue\n",
      "\n",
      "\n",
      " classification_report:              precision    recall  f1-score   support\n",
      "\n",
      "          0       0.97      1.00      0.99      7571\n",
      "          1       0.78      0.06      0.11       227\n",
      "\n",
      "avg / total       0.97      0.97      0.96      7798\n",
      "\n",
      "Category: security\n",
      "\n",
      "\n",
      " classification_report:              precision    recall  f1-score   support\n",
      "\n",
      "          0       0.98      1.00      0.99      7658\n",
      "          1       0.20      0.01      0.01       140\n",
      "\n",
      "avg / total       0.97      0.98      0.97      7798\n",
      "\n",
      "Category: military\n",
      "\n",
      "\n",
      " classification_report:              precision    recall  f1-score   support\n",
      "\n",
      "          0       0.97      1.00      0.98      7540\n",
      "          1       0.56      0.09      0.15       258\n",
      "\n",
      "avg / total       0.96      0.97      0.96      7798\n",
      "\n",
      "Category: child_alone\n",
      "\n",
      "\n",
      " classification_report:              precision    recall  f1-score   support\n",
      "\n",
      "          0       1.00      1.00      1.00      7798\n",
      "\n",
      "avg / total       1.00      1.00      1.00      7798\n",
      "\n",
      "Category: water\n",
      "\n",
      "\n",
      " classification_report:              precision    recall  f1-score   support\n",
      "\n",
      "          0       0.96      1.00      0.98      7331\n",
      "          1       0.88      0.34      0.49       467\n",
      "\n",
      "avg / total       0.95      0.96      0.95      7798\n",
      "\n",
      "Category: food\n",
      "\n",
      "\n",
      " classification_report:              precision    recall  f1-score   support\n",
      "\n",
      "          0       0.96      0.98      0.97      6917\n",
      "          1       0.81      0.64      0.72       881\n",
      "\n",
      "avg / total       0.94      0.94      0.94      7798\n",
      "\n",
      "Category: shelter\n",
      "\n",
      "\n",
      " classification_report:              precision    recall  f1-score   support\n",
      "\n",
      "          0       0.94      0.99      0.97      7117\n",
      "          1       0.83      0.35      0.49       681\n",
      "\n",
      "avg / total       0.93      0.94      0.92      7798\n",
      "\n",
      "Category: clothing\n",
      "\n",
      "\n",
      " classification_report:              precision    recall  f1-score   support\n",
      "\n",
      "          0       0.99      1.00      0.99      7700\n",
      "          1       0.62      0.08      0.14        98\n",
      "\n",
      "avg / total       0.98      0.99      0.98      7798\n",
      "\n",
      "Category: money\n",
      "\n",
      "\n",
      " classification_report:              precision    recall  f1-score   support\n",
      "\n",
      "          0       0.98      1.00      0.99      7625\n",
      "          1       0.83      0.03      0.06       173\n",
      "\n",
      "avg / total       0.98      0.98      0.97      7798\n",
      "\n",
      "Category: missing_people\n",
      "\n",
      "\n",
      " classification_report:              precision    recall  f1-score   support\n",
      "\n",
      "          0       0.99      1.00      0.99      7719\n",
      "          1       1.00      0.01      0.02        79\n",
      "\n",
      "avg / total       0.99      0.99      0.99      7798\n",
      "\n",
      "Category: refugees\n",
      "\n",
      "\n",
      " classification_report:              precision    recall  f1-score   support\n",
      "\n",
      "          0       0.97      1.00      0.98      7534\n",
      "          1       0.81      0.05      0.09       264\n",
      "\n",
      "avg / total       0.96      0.97      0.95      7798\n",
      "\n",
      "Category: death\n",
      "\n",
      "\n",
      " classification_report:              precision    recall  f1-score   support\n",
      "\n",
      "          0       0.96      1.00      0.98      7414\n",
      "          1       0.83      0.12      0.21       384\n",
      "\n",
      "avg / total       0.95      0.96      0.94      7798\n",
      "\n",
      "Category: other_aid\n",
      "\n",
      "\n",
      " classification_report:              precision    recall  f1-score   support\n",
      "\n",
      "          0       0.87      1.00      0.93      6750\n",
      "          1       0.65      0.06      0.10      1048\n",
      "\n",
      "avg / total       0.84      0.87      0.82      7798\n",
      "\n",
      "Category: infrastructure_related\n",
      "\n",
      "\n",
      " classification_report:              precision    recall  f1-score   support\n",
      "\n",
      "          0       0.94      1.00      0.97      7310\n",
      "          1       0.00      0.00      0.00       488\n",
      "\n",
      "avg / total       0.88      0.94      0.91      7798\n",
      "\n",
      "Category: transport\n",
      "\n",
      "\n",
      " classification_report:              precision    recall  f1-score   support\n",
      "\n",
      "          0       0.95      1.00      0.98      7419\n",
      "          1       0.72      0.07      0.13       379\n",
      "\n",
      "avg / total       0.94      0.95      0.93      7798\n",
      "\n",
      "Category: buildings\n",
      "\n",
      "\n",
      " classification_report:              precision    recall  f1-score   support\n",
      "\n",
      "          0       0.95      1.00      0.98      7397\n",
      "          1       0.78      0.10      0.18       401\n",
      "\n",
      "avg / total       0.94      0.95      0.93      7798\n",
      "\n",
      "Category: electricity\n",
      "\n",
      "\n",
      " classification_report:              precision    recall  f1-score   support\n",
      "\n",
      "          0       0.98      1.00      0.99      7651\n",
      "          1       0.90      0.06      0.11       147\n",
      "\n",
      "avg / total       0.98      0.98      0.97      7798\n",
      "\n",
      "Category: tools\n",
      "\n",
      "\n",
      " classification_report:              precision    recall  f1-score   support\n",
      "\n",
      "          0       0.99      1.00      1.00      7754\n",
      "          1       0.00      0.00      0.00        44\n",
      "\n",
      "avg / total       0.99      0.99      0.99      7798\n",
      "\n",
      "Category: hospitals\n",
      "\n",
      "\n",
      " classification_report:              precision    recall  f1-score   support\n",
      "\n",
      "          0       0.99      1.00      1.00      7726\n",
      "          1       0.00      0.00      0.00        72\n",
      "\n",
      "avg / total       0.98      0.99      0.99      7798\n",
      "\n",
      "Category: shops\n",
      "\n",
      "\n",
      " classification_report:              precision    recall  f1-score   support\n",
      "\n",
      "          0       0.99      1.00      1.00      7756\n",
      "          1       0.00      0.00      0.00        42\n",
      "\n",
      "avg / total       0.99      0.99      0.99      7798\n",
      "\n",
      "Category: aid_centers\n",
      "\n",
      "\n",
      " classification_report:              precision    recall  f1-score   support\n",
      "\n",
      "          0       0.99      1.00      0.99      7711\n",
      "          1       0.00      0.00      0.00        87\n",
      "\n",
      "avg / total       0.98      0.99      0.98      7798\n",
      "\n",
      "Category: other_infrastructure\n",
      "\n",
      "\n",
      " classification_report:              precision    recall  f1-score   support\n",
      "\n",
      "          0       0.96      1.00      0.98      7471\n",
      "          1       0.00      0.00      0.00       327\n",
      "\n",
      "avg / total       0.92      0.96      0.94      7798\n",
      "\n",
      "Category: weather_related\n",
      "\n",
      "\n",
      " classification_report:              precision    recall  f1-score   support\n",
      "\n",
      "          0       0.88      0.95      0.91      5582\n",
      "          1       0.84      0.68      0.75      2216\n",
      "\n",
      "avg / total       0.87      0.87      0.87      7798\n",
      "\n",
      "Category: floods\n",
      "\n",
      "\n",
      " classification_report:              precision    recall  f1-score   support\n",
      "\n",
      "          0       0.95      1.00      0.97      7121\n",
      "          1       0.92      0.48      0.63       677\n",
      "\n",
      "avg / total       0.95      0.95      0.94      7798\n",
      "\n",
      "Category: storm\n",
      "\n",
      "\n",
      " classification_report:              precision    recall  f1-score   support\n",
      "\n",
      "          0       0.95      0.99      0.97      7050\n",
      "          1       0.78      0.48      0.59       748\n",
      "\n",
      "avg / total       0.93      0.94      0.93      7798\n",
      "\n",
      "Category: fire\n",
      "\n",
      "\n",
      " classification_report:              precision    recall  f1-score   support\n",
      "\n",
      "          0       0.99      1.00      0.99      7707\n",
      "          1       1.00      0.01      0.02        91\n",
      "\n",
      "avg / total       0.99      0.99      0.98      7798\n",
      "\n",
      "Category: earthquake\n",
      "\n",
      "\n",
      " classification_report:              precision    recall  f1-score   support\n",
      "\n",
      "          0       0.97      0.99      0.98      7068\n",
      "          1       0.90      0.75      0.82       730\n",
      "\n",
      "avg / total       0.97      0.97      0.97      7798\n",
      "\n",
      "Category: cold\n",
      "\n",
      "\n",
      " classification_report:              precision    recall  f1-score   support\n",
      "\n",
      "          0       0.98      1.00      0.99      7641\n",
      "          1       0.95      0.13      0.23       157\n",
      "\n",
      "avg / total       0.98      0.98      0.98      7798\n",
      "\n",
      "Category: other_weather\n",
      "\n",
      "\n",
      " classification_report:              precision    recall  f1-score   support\n",
      "\n",
      "          0       0.95      1.00      0.97      7383\n",
      "          1       0.43      0.04      0.07       415\n",
      "\n",
      "avg / total       0.92      0.95      0.92      7798\n",
      "\n",
      "Category: direct_report\n",
      "\n",
      "\n",
      " classification_report:              precision    recall  f1-score   support\n",
      "\n",
      "          0       0.86      0.98      0.91      6222\n",
      "          1       0.79      0.36      0.50      1576\n",
      "\n",
      "avg / total       0.84      0.85      0.83      7798\n",
      "\n"
     ]
    },
    {
     "name": "stderr",
     "output_type": "stream",
     "text": [
      "/opt/conda/lib/python3.6/site-packages/sklearn/metrics/classification.py:1135: UndefinedMetricWarning: Precision and F-score are ill-defined and being set to 0.0 in labels with no predicted samples.\n",
      "  'precision', 'predicted', average, warn_for)\n"
     ]
    }
   ],
   "source": [
    "\n",
    "Y_pred = cv.predict(X_test)\n",
    "    \n",
    "Y_pred_df = pd.DataFrame(Y_pred, columns = categories_columns)\n",
    "Y_test_df = pd.DataFrame(Y_test, columns = categories_columns)\n",
    "    \n",
    "for i in range(36):\n",
    "        \n",
    "    print('Category: {}'\n",
    "          \"\\n\\n\\n classification_report: {}\".format(categories_columns[i],\n",
    "          classification_report(Y_test_df.iloc[:,i], Y_pred_df.iloc[:,i])))"
   ]
  },
  {
   "cell_type": "markdown",
   "metadata": {},
   "source": [
    "### 8. Try improving your model further. Here are a few ideas:\n",
    "* try other machine learning algorithms\n",
    "* add other features besides the TF-IDF"
   ]
  },
  {
   "cell_type": "code",
   "execution_count": 31,
   "metadata": {},
   "outputs": [
    {
     "name": "stdout",
     "output_type": "stream",
     "text": [
      "\n",
      "        \t Y_predict type: <class 'numpy.ndarray'>\n",
      "        \t Y_predict shape: (7798, 36)\n",
      "        \t Y_predict: multilabel-indicator\n",
      "        \t Y_test: multilabel-indicator\n",
      "                        precision    recall  f1-score   support\n",
      "\n",
      "               related       0.77      1.00      0.87      5966\n",
      "               request       0.00      0.00      0.00      1359\n",
      "                 offer       0.00      0.00      0.00        37\n",
      "           aid_related       0.49      0.05      0.09      3250\n",
      "          medical_help       0.00      0.00      0.00       617\n",
      "      medical_products       0.00      0.00      0.00       356\n",
      "     search_and_rescue       0.00      0.00      0.00       227\n",
      "              security       0.00      0.00      0.00       140\n",
      "              military       0.00      0.00      0.00       258\n",
      "           child_alone       0.00      0.00      0.00         0\n",
      "                 water       0.00      0.00      0.00       467\n",
      "                  food       0.00      0.00      0.00       881\n",
      "               shelter       0.00      0.00      0.00       681\n",
      "              clothing       0.00      0.00      0.00        98\n",
      "                 money       0.00      0.00      0.00       173\n",
      "        missing_people       0.00      0.00      0.00        79\n",
      "              refugees       0.00      0.00      0.00       264\n",
      "                 death       0.00      0.00      0.00       384\n",
      "             other_aid       0.00      0.00      0.00      1048\n",
      "infrastructure_related       0.00      0.00      0.00       488\n",
      "             transport       0.00      0.00      0.00       379\n",
      "             buildings       0.00      0.00      0.00       401\n",
      "           electricity       0.00      0.00      0.00       147\n",
      "                 tools       0.00      0.00      0.00        44\n",
      "             hospitals       0.00      0.00      0.00        72\n",
      "                 shops       0.00      0.00      0.00        42\n",
      "           aid_centers       0.00      0.00      0.00        87\n",
      "  other_infrastructure       0.00      0.00      0.00       327\n",
      "       weather_related       0.52      0.00      0.01      2216\n",
      "                floods       0.00      0.00      0.00       677\n",
      "                 storm       0.00      0.00      0.00       748\n",
      "                  fire       0.00      0.00      0.00        91\n",
      "            earthquake       0.48      0.01      0.03       730\n",
      "                  cold       0.00      0.00      0.00       157\n",
      "         other_weather       0.00      0.00      0.00       415\n",
      "         direct_report       0.00      0.00      0.00      1576\n",
      "\n",
      "           avg / total       0.31      0.25      0.22     24882\n",
      "\n"
     ]
    },
    {
     "name": "stderr",
     "output_type": "stream",
     "text": [
      "/opt/conda/lib/python3.6/site-packages/sklearn/metrics/classification.py:1135: UndefinedMetricWarning: Precision and F-score are ill-defined and being set to 0.0 in labels with no predicted samples.\n",
      "  'precision', 'predicted', average, warn_for)\n",
      "/opt/conda/lib/python3.6/site-packages/sklearn/metrics/classification.py:1137: UndefinedMetricWarning: Recall and F-score are ill-defined and being set to 0.0 in labels with no true samples.\n",
      "  'recall', 'true', average, warn_for)\n"
     ]
    },
    {
     "name": "stdout",
     "output_type": "stream",
     "text": [
      "\n",
      "        \t Y_predict type: <class 'numpy.ndarray'>\n",
      "        \t Y_predict shape: (7798, 36)\n",
      "        \t Y_predict: multilabel-indicator\n",
      "        \t Y_test: multilabel-indicator\n",
      "                        precision    recall  f1-score   support\n",
      "\n",
      "               related       0.77      1.00      0.87      5966\n",
      "               request       0.00      0.00      0.00      1359\n",
      "                 offer       0.00      0.00      0.00        37\n",
      "           aid_related       0.00      0.00      0.00      3250\n",
      "          medical_help       0.00      0.00      0.00       617\n",
      "      medical_products       0.00      0.00      0.00       356\n",
      "     search_and_rescue       0.00      0.00      0.00       227\n",
      "              security       0.00      0.00      0.00       140\n",
      "              military       0.00      0.00      0.00       258\n",
      "           child_alone       0.00      0.00      0.00         0\n",
      "                 water       0.00      0.00      0.00       467\n",
      "                  food       0.00      0.00      0.00       881\n",
      "               shelter       0.00      0.00      0.00       681\n",
      "              clothing       0.00      0.00      0.00        98\n",
      "                 money       0.00      0.00      0.00       173\n",
      "        missing_people       0.00      0.00      0.00        79\n",
      "              refugees       0.00      0.00      0.00       264\n",
      "                 death       0.00      0.00      0.00       384\n",
      "             other_aid       0.00      0.00      0.00      1048\n",
      "infrastructure_related       0.00      0.00      0.00       488\n",
      "             transport       0.00      0.00      0.00       379\n",
      "             buildings       0.00      0.00      0.00       401\n",
      "           electricity       0.00      0.00      0.00       147\n",
      "                 tools       0.00      0.00      0.00        44\n",
      "             hospitals       0.00      0.00      0.00        72\n",
      "                 shops       0.00      0.00      0.00        42\n",
      "           aid_centers       0.00      0.00      0.00        87\n",
      "  other_infrastructure       0.00      0.00      0.00       327\n",
      "       weather_related       0.50      0.01      0.01      2216\n",
      "                floods       0.00      0.00      0.00       677\n",
      "                 storm       0.00      0.00      0.00       748\n",
      "                  fire       0.00      0.00      0.00        91\n",
      "            earthquake       0.00      0.00      0.00       730\n",
      "                  cold       0.00      0.00      0.00       157\n",
      "         other_weather       0.00      0.00      0.00       415\n",
      "         direct_report       0.00      0.00      0.00      1576\n",
      "\n",
      "           avg / total       0.23      0.24      0.21     24882\n",
      "\n"
     ]
    },
    {
     "name": "stderr",
     "output_type": "stream",
     "text": [
      "/opt/conda/lib/python3.6/site-packages/sklearn/metrics/classification.py:1135: UndefinedMetricWarning: Precision and F-score are ill-defined and being set to 0.0 in labels with no predicted samples.\n",
      "  'precision', 'predicted', average, warn_for)\n",
      "/opt/conda/lib/python3.6/site-packages/sklearn/metrics/classification.py:1137: UndefinedMetricWarning: Recall and F-score are ill-defined and being set to 0.0 in labels with no true samples.\n",
      "  'recall', 'true', average, warn_for)\n"
     ]
    }
   ],
   "source": [
    "from sklearn.decomposition import TruncatedSVD\n",
    "from sklearn.ensemble import AdaBoostClassifier\n",
    "# Improve the model via pipeline+.\n",
    "pipeline1 = Pipeline([\n",
    "    ('vect', CountVectorizer()),\n",
    "    ('best', TruncatedSVD()),\n",
    "    ('tfidf', TfidfTransformer()),\n",
    "    ('clf', MultiOutputClassifier(AdaBoostClassifier()))\n",
    "])\n",
    "# Train the  pipeline1. \n",
    "pipeline1.fit(X_train, Y_train)\n",
    "# Check the performance of the adjusted model.\n",
    "performance(pipeline1, X_test, Y_test)\n",
    "\n",
    "\n",
    "parameters1 = { \n",
    "              'tfidf__use_idf': (True, False), \n",
    "              'clf__estimator__n_estimators': [5, 10],\n",
    "              'clf__estimator__learning_rate': [1,2] }\n",
    "cv1 = GridSearchCV(pipeline1, param_grid=parameters1)\n",
    "cv1.fit(X_train, Y_train)\n",
    "performance(cv1, X_test, Y_test)\n",
    "\n",
    "\n",
    "\n",
    "\n"
   ]
  },
  {
   "cell_type": "code",
   "execution_count": 35,
   "metadata": {},
   "outputs": [
    {
     "name": "stdout",
     "output_type": "stream",
     "text": [
      "Labels: [0 1]\n",
      "Confusion Matrix:\n",
      " [[7753   12]\n",
      " [   0    0]]\n",
      "Accuracy: 0.947447351173\n"
     ]
    }
   ],
   "source": [
    "#\n",
    "def display_results(y_test, y_pred):\n",
    "    labels = np.unique(y_pred)\n",
    "    # confusion_mat = confusion_matrix(y_test, y_pred, labels=labels)\n",
    "    # https://stackoverflow.com/questions/46953967/multilabel-indicator-is-not-supported-for-confusion-matrix\n",
    "    # .values.argmax(axis=1)\n",
    "    confusion_mat = confusion_matrix(y_test.argmax(axis=1), y_pred.argmax(axis=1), labels=labels)\n",
    "    accuracy = (y_pred == y_test).mean()\n",
    "\n",
    "    print(\"Labels:\", labels)\n",
    "    print(\"Confusion Matrix:\\n\", confusion_mat)\n",
    "    print(\"Accuracy:\", accuracy)\n",
    "\n",
    "\n",
    "display_results(Y_test, Y_pred)\n",
    "\n",
    "\n",
    "\n",
    "\n",
    "\n"
   ]
  },
  {
   "cell_type": "markdown",
   "metadata": {},
   "source": [
    "### 9. Export your model as a pickle file"
   ]
  },
  {
   "cell_type": "code",
   "execution_count": 40,
   "metadata": {},
   "outputs": [],
   "source": [
    "pickle_file_name = 'pickle.file1.p'\n",
    "pickle_filepath = \"\"\n",
    "handle_file = open('pickle.file1.p', 'wb')\n",
    "pickle.dump(cv, handle_file)\n",
    "\n",
    "# close the file\n",
    "handle_file.close() \n"
   ]
  },
  {
   "cell_type": "code",
   "execution_count": null,
   "metadata": {},
   "outputs": [],
   "source": [
    "\n",
    "\n",
    "   "
   ]
  },
  {
   "cell_type": "code",
   "execution_count": 41,
   "metadata": {},
   "outputs": [],
   "source": [
    "# alternative pickle\n",
    "with open('pickle.file1.p', 'wb') as handle_file:\n",
    "    # Pickle the 'cv' dictionary using the highest protocol available.\n",
    "    pickle.dump(cv, handle_file)\n",
    "    \n",
    "# close the file\n",
    "handle_file.close() "
   ]
  },
  {
   "cell_type": "code",
   "execution_count": null,
   "metadata": {},
   "outputs": [],
   "source": [
    "\n",
    "    \n",
    "    \n",
    "    \n",
    "    \n",
    "    "
   ]
  },
  {
   "cell_type": "code",
   "execution_count": null,
   "metadata": {},
   "outputs": [],
   "source": [
    "\n"
   ]
  },
  {
   "cell_type": "markdown",
   "metadata": {},
   "source": [
    "### 10. Use this notebook to complete `train.py`\n",
    "Use the template file attached in the Resources folder to write a script that runs the steps above to create a database and export a model based on a new dataset specified by the user."
   ]
  },
  {
   "cell_type": "code",
   "execution_count": null,
   "metadata": {},
   "outputs": [],
   "source": [
    "# learn https://github.com/andreigalanciuc/DATA-ENGINEERING-DISASTER-MESSAGES\n",
    "# https://towardsdatascience.com/doing-meaningful-work-with-machine-learning-classify-disaster-messages-436bfe9ec42"
   ]
  }
 ],
 "metadata": {
  "kernelspec": {
   "display_name": "udacity3913",
   "language": "python",
   "name": "python3"
  },
  "language_info": {
   "codemirror_mode": {
    "name": "ipython",
    "version": 3
   },
   "file_extension": ".py",
   "mimetype": "text/x-python",
   "name": "python",
   "nbconvert_exporter": "python",
   "pygments_lexer": "ipython3",
   "version": "3.10.8"
  },
  "vscode": {
   "interpreter": {
    "hash": "7ac10ae760cfbe41560696800e005756b41ce27440f410e1871fa655d73411b0"
   }
  }
 },
 "nbformat": 4,
 "nbformat_minor": 2
}
